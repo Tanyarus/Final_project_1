{
 "cells": [
  {
   "cell_type": "markdown",
   "id": "56688061",
   "metadata": {},
   "source": [
    "# Проект по исследованию некоторых аспектов мобильного приложения."
   ]
  },
  {
   "cell_type": "markdown",
   "id": "9b35cf76",
   "metadata": {},
   "source": [
    "## Задание 2"
   ]
  },
  {
   "cell_type": "markdown",
   "id": "bdbc6f10",
   "metadata": {},
   "source": [
    "#### Имеются результаты A/B теста, в котором двум группам пользователей предлагались различные наборы акционных предложений.  Известно, что ARPU в тестовой группе выше на 5%, чем в контрольной. При этом в контрольной группе 1928 игроков из 202103 оказались платящими, а в тестовой – 1805 из 202667. \n",
    "\n",
    "#### A - контрольная группа, B - тестовая группа\n",
    "\n",
    "Какой набор предложений можно считать лучшим? Какие метрики стоит проанализировать для принятия правильного решения и как?"
   ]
  },
  {
   "cell_type": "code",
   "execution_count": 1,
   "id": "895bc918",
   "metadata": {},
   "outputs": [],
   "source": [
    "# выгружаем необходимые библиотеки\n",
    "\n",
    "import pandas as pd\n",
    "from scipy.stats import ttest_ind\n",
    "from scipy.stats import norm, mannwhitneyu\n",
    "from scipy import stats\n",
    "import scipy.stats as ss\n",
    "from scipy.stats import chi2_contingency, chi2\n",
    "import numpy as np\n",
    "from tqdm.auto import tqdm\n",
    "import seaborn as sns\n",
    "import matplotlib.pyplot as plt\n",
    "%matplotlib inline"
   ]
  },
  {
   "cell_type": "code",
   "execution_count": 2,
   "id": "06e0dce4",
   "metadata": {},
   "outputs": [],
   "source": [
    "# считываем данные\n",
    "task_2 = pd.read_csv('Проект_1_Задание_2.csv', sep=';')"
   ]
  },
  {
   "cell_type": "code",
   "execution_count": 3,
   "id": "8f76a27b",
   "metadata": {},
   "outputs": [
    {
     "data": {
      "text/html": [
       "<div>\n",
       "<style scoped>\n",
       "    .dataframe tbody tr th:only-of-type {\n",
       "        vertical-align: middle;\n",
       "    }\n",
       "\n",
       "    .dataframe tbody tr th {\n",
       "        vertical-align: top;\n",
       "    }\n",
       "\n",
       "    .dataframe thead th {\n",
       "        text-align: right;\n",
       "    }\n",
       "</style>\n",
       "<table border=\"1\" class=\"dataframe\">\n",
       "  <thead>\n",
       "    <tr style=\"text-align: right;\">\n",
       "      <th></th>\n",
       "      <th>user_id</th>\n",
       "      <th>revenue</th>\n",
       "      <th>testgroup</th>\n",
       "    </tr>\n",
       "  </thead>\n",
       "  <tbody>\n",
       "    <tr>\n",
       "      <th>0</th>\n",
       "      <td>1</td>\n",
       "      <td>0</td>\n",
       "      <td>b</td>\n",
       "    </tr>\n",
       "    <tr>\n",
       "      <th>1</th>\n",
       "      <td>2</td>\n",
       "      <td>0</td>\n",
       "      <td>a</td>\n",
       "    </tr>\n",
       "    <tr>\n",
       "      <th>2</th>\n",
       "      <td>3</td>\n",
       "      <td>0</td>\n",
       "      <td>a</td>\n",
       "    </tr>\n",
       "    <tr>\n",
       "      <th>3</th>\n",
       "      <td>4</td>\n",
       "      <td>0</td>\n",
       "      <td>b</td>\n",
       "    </tr>\n",
       "    <tr>\n",
       "      <th>4</th>\n",
       "      <td>5</td>\n",
       "      <td>0</td>\n",
       "      <td>b</td>\n",
       "    </tr>\n",
       "  </tbody>\n",
       "</table>\n",
       "</div>"
      ],
      "text/plain": [
       "   user_id  revenue testgroup\n",
       "0        1        0         b\n",
       "1        2        0         a\n",
       "2        3        0         a\n",
       "3        4        0         b\n",
       "4        5        0         b"
      ]
     },
     "execution_count": 3,
     "metadata": {},
     "output_type": "execute_result"
    }
   ],
   "source": [
    "task_2.head()"
   ]
  },
  {
   "cell_type": "markdown",
   "id": "30351044",
   "metadata": {},
   "source": [
    "#### Я считаю, что для принятия решения принятия решения стоит проанализировать метрики, такие как ARPU (средний доход на пользователя), ARPPU (средний доход с привлеченного клиента) и CR (конверсию в покупку)"
   ]
  },
  {
   "cell_type": "code",
   "execution_count": null,
   "id": "97f5147d",
   "metadata": {},
   "outputs": [],
   "source": []
  },
  {
   "cell_type": "markdown",
   "id": "34186277",
   "metadata": {},
   "source": [
    "#### с помощью х-квадрата проверяем правильно ли произведено сплитование на группы (по количеству пользователей)"
   ]
  },
  {
   "cell_type": "code",
   "execution_count": 6,
   "id": "611a9eb2",
   "metadata": {},
   "outputs": [
    {
     "data": {
      "text/plain": [
       "(0.0, 1.0)"
      ]
     },
     "execution_count": 6,
     "metadata": {},
     "output_type": "execute_result"
    }
   ],
   "source": [
    "stat, p, dof, expected = chi2_contingency(pd.crosstab(task_2.user_id.count(), task_2.testgroup))\n",
    "stat, p"
   ]
  },
  {
   "cell_type": "markdown",
   "id": "7d82b3fd",
   "metadata": {},
   "source": [
    "сплитование на группы проведено верно (p-value > 0.05) и дальше мы можем продолжить исследовать данные, считать нужные нам метрики и проверять есть ли между ними статистически значимые различия"
   ]
  },
  {
   "cell_type": "code",
   "execution_count": 7,
   "id": "5ad3936e",
   "metadata": {},
   "outputs": [
    {
     "data": {
      "text/html": [
       "<div>\n",
       "<style scoped>\n",
       "    .dataframe tbody tr th:only-of-type {\n",
       "        vertical-align: middle;\n",
       "    }\n",
       "\n",
       "    .dataframe tbody tr th {\n",
       "        vertical-align: top;\n",
       "    }\n",
       "\n",
       "    .dataframe thead th {\n",
       "        text-align: right;\n",
       "    }\n",
       "</style>\n",
       "<table border=\"1\" class=\"dataframe\">\n",
       "  <thead>\n",
       "    <tr style=\"text-align: right;\">\n",
       "      <th></th>\n",
       "      <th>testgroup</th>\n",
       "      <th>count_users</th>\n",
       "    </tr>\n",
       "  </thead>\n",
       "  <tbody>\n",
       "    <tr>\n",
       "      <th>0</th>\n",
       "      <td>a</td>\n",
       "      <td>202103</td>\n",
       "    </tr>\n",
       "    <tr>\n",
       "      <th>1</th>\n",
       "      <td>b</td>\n",
       "      <td>202667</td>\n",
       "    </tr>\n",
       "  </tbody>\n",
       "</table>\n",
       "</div>"
      ],
      "text/plain": [
       "  testgroup  count_users\n",
       "0         a       202103\n",
       "1         b       202667"
      ]
     },
     "execution_count": 7,
     "metadata": {},
     "output_type": "execute_result"
    }
   ],
   "source": [
    "# посчитала количество уникальных пользователей в каждой группе\n",
    "all_users = task_2.groupby('testgroup', as_index=False)\\\n",
    "    .agg({'user_id':'nunique'})\\\n",
    "    .rename(columns={'user_id':'count_users'})\n",
    "\n",
    "all_users"
   ]
  },
  {
   "cell_type": "markdown",
   "id": "0cfb81ac",
   "metadata": {},
   "source": [
    "Посчитаем количество уникальных клиентов (платящих пользователей):"
   ]
  },
  {
   "cell_type": "code",
   "execution_count": 8,
   "id": "97c2e283",
   "metadata": {},
   "outputs": [],
   "source": [
    "paying_users = task_2.query('revenue>0')\\\n",
    "    .groupby('testgroup', as_index=False)\\\n",
    "    .agg({'user_id':'nunique'})\\\n",
    "     .rename(columns={'user_id':'paying_users'})"
   ]
  },
  {
   "cell_type": "code",
   "execution_count": 9,
   "id": "25883a56",
   "metadata": {},
   "outputs": [
    {
     "data": {
      "text/html": [
       "<div>\n",
       "<style scoped>\n",
       "    .dataframe tbody tr th:only-of-type {\n",
       "        vertical-align: middle;\n",
       "    }\n",
       "\n",
       "    .dataframe tbody tr th {\n",
       "        vertical-align: top;\n",
       "    }\n",
       "\n",
       "    .dataframe thead th {\n",
       "        text-align: right;\n",
       "    }\n",
       "</style>\n",
       "<table border=\"1\" class=\"dataframe\">\n",
       "  <thead>\n",
       "    <tr style=\"text-align: right;\">\n",
       "      <th></th>\n",
       "      <th>testgroup</th>\n",
       "      <th>paying_users</th>\n",
       "    </tr>\n",
       "  </thead>\n",
       "  <tbody>\n",
       "    <tr>\n",
       "      <th>0</th>\n",
       "      <td>a</td>\n",
       "      <td>1928</td>\n",
       "    </tr>\n",
       "    <tr>\n",
       "      <th>1</th>\n",
       "      <td>b</td>\n",
       "      <td>1805</td>\n",
       "    </tr>\n",
       "  </tbody>\n",
       "</table>\n",
       "</div>"
      ],
      "text/plain": [
       "  testgroup  paying_users\n",
       "0         a          1928\n",
       "1         b          1805"
      ]
     },
     "execution_count": 9,
     "metadata": {},
     "output_type": "execute_result"
    }
   ],
   "source": [
    "paying_users"
   ]
  },
  {
   "cell_type": "code",
   "execution_count": 16,
   "id": "43159598",
   "metadata": {},
   "outputs": [],
   "source": [
    "# соединим данные\n",
    "users = all_users.merge(paying_users, on = 'testgroup')"
   ]
  },
  {
   "cell_type": "code",
   "execution_count": 18,
   "id": "bad8c252",
   "metadata": {},
   "outputs": [],
   "source": [
    "users['not_paying_users'] = users.count_users - users.paying_users"
   ]
  },
  {
   "cell_type": "code",
   "execution_count": 32,
   "id": "27717f2d",
   "metadata": {
    "scrolled": true
   },
   "outputs": [
    {
     "data": {
      "text/html": [
       "<div>\n",
       "<style scoped>\n",
       "    .dataframe tbody tr th:only-of-type {\n",
       "        vertical-align: middle;\n",
       "    }\n",
       "\n",
       "    .dataframe tbody tr th {\n",
       "        vertical-align: top;\n",
       "    }\n",
       "\n",
       "    .dataframe thead th {\n",
       "        text-align: right;\n",
       "    }\n",
       "</style>\n",
       "<table border=\"1\" class=\"dataframe\">\n",
       "  <thead>\n",
       "    <tr style=\"text-align: right;\">\n",
       "      <th></th>\n",
       "      <th>testgroup</th>\n",
       "      <th>count_users</th>\n",
       "      <th>paying_users</th>\n",
       "      <th>not_paying_users</th>\n",
       "    </tr>\n",
       "  </thead>\n",
       "  <tbody>\n",
       "    <tr>\n",
       "      <th>0</th>\n",
       "      <td>a</td>\n",
       "      <td>202103</td>\n",
       "      <td>1928</td>\n",
       "      <td>200175</td>\n",
       "    </tr>\n",
       "    <tr>\n",
       "      <th>1</th>\n",
       "      <td>b</td>\n",
       "      <td>202667</td>\n",
       "      <td>1805</td>\n",
       "      <td>200862</td>\n",
       "    </tr>\n",
       "  </tbody>\n",
       "</table>\n",
       "</div>"
      ],
      "text/plain": [
       "  testgroup  count_users  paying_users  not_paying_users\n",
       "0         a       202103          1928            200175\n",
       "1         b       202667          1805            200862"
      ]
     },
     "execution_count": 32,
     "metadata": {},
     "output_type": "execute_result"
    }
   ],
   "source": [
    "users"
   ]
  },
  {
   "cell_type": "markdown",
   "id": "e3f738e1",
   "metadata": {},
   "source": [
    "С помощью критерия Х-квадрат проверим соотношение платящих пользователей к общему числу пользователей и неплатящих пользователей к общему числу пользователей в каждой группе:"
   ]
  },
  {
   "cell_type": "code",
   "execution_count": 34,
   "id": "9bfc54ee",
   "metadata": {},
   "outputs": [
    {
     "data": {
      "text/plain": [
       "(0.01995199857948413,\n",
       " 0.887671228288306,\n",
       " 1,\n",
       " array([[202070.80114717, 202699.19885283],\n",
       "        [200207.19885283, 200829.80114717]]))"
      ]
     },
     "execution_count": 34,
     "metadata": {},
     "output_type": "execute_result"
    }
   ],
   "source": [
    "chi2_contingency(users[['count_users','not_paying_users']].T)"
   ]
  },
  {
   "cell_type": "code",
   "execution_count": 35,
   "id": "a320e050",
   "metadata": {
    "scrolled": true
   },
   "outputs": [
    {
     "data": {
      "text/plain": [
       "(4.294148751290091,\n",
       " 0.03824373651044168,\n",
       " 1,\n",
       " array([[202166.51498275, 202603.48501725],\n",
       "        [  1864.48501725,   1868.51498275]]))"
      ]
     },
     "execution_count": 35,
     "metadata": {},
     "output_type": "execute_result"
    }
   ],
   "source": [
    "chi2_contingency(users[['count_users','paying_users']].T)"
   ]
  },
  {
   "cell_type": "markdown",
   "id": "0bc4d4a7",
   "metadata": {},
   "source": [
    "Количество неплатящих пользователей статистически значимо не откличается в группах (p-value = 0.88). Однако количество клиентов статистически значимо отличается между собой (p-value = 0.03) и в контрольной группе платящих пользователей больше."
   ]
  },
  {
   "cell_type": "code",
   "execution_count": null,
   "id": "36ac275b",
   "metadata": {},
   "outputs": [],
   "source": []
  },
  {
   "cell_type": "markdown",
   "id": "22e83942",
   "metadata": {},
   "source": [
    "#### Посчитаем коеффициент конверсии\n",
    "cr = число клиентов/ на общее число пользователей * 100"
   ]
  },
  {
   "cell_type": "code",
   "execution_count": 14,
   "id": "feb94469",
   "metadata": {},
   "outputs": [],
   "source": [
    "users['cr'] = users.paying_users/users.count_users*100"
   ]
  },
  {
   "cell_type": "code",
   "execution_count": 15,
   "id": "94746f79",
   "metadata": {
    "scrolled": true
   },
   "outputs": [
    {
     "data": {
      "text/html": [
       "<div>\n",
       "<style scoped>\n",
       "    .dataframe tbody tr th:only-of-type {\n",
       "        vertical-align: middle;\n",
       "    }\n",
       "\n",
       "    .dataframe tbody tr th {\n",
       "        vertical-align: top;\n",
       "    }\n",
       "\n",
       "    .dataframe thead th {\n",
       "        text-align: right;\n",
       "    }\n",
       "</style>\n",
       "<table border=\"1\" class=\"dataframe\">\n",
       "  <thead>\n",
       "    <tr style=\"text-align: right;\">\n",
       "      <th></th>\n",
       "      <th>testgroup</th>\n",
       "      <th>count_users</th>\n",
       "      <th>paying_users</th>\n",
       "      <th>cr</th>\n",
       "    </tr>\n",
       "  </thead>\n",
       "  <tbody>\n",
       "    <tr>\n",
       "      <th>0</th>\n",
       "      <td>a</td>\n",
       "      <td>202103</td>\n",
       "      <td>1928</td>\n",
       "      <td>0.953969</td>\n",
       "    </tr>\n",
       "    <tr>\n",
       "      <th>1</th>\n",
       "      <td>b</td>\n",
       "      <td>202667</td>\n",
       "      <td>1805</td>\n",
       "      <td>0.890624</td>\n",
       "    </tr>\n",
       "  </tbody>\n",
       "</table>\n",
       "</div>"
      ],
      "text/plain": [
       "  testgroup  count_users  paying_users        cr\n",
       "0         a       202103          1928  0.953969\n",
       "1         b       202667          1805  0.890624"
      ]
     },
     "execution_count": 15,
     "metadata": {},
     "output_type": "execute_result"
    }
   ],
   "source": [
    "users"
   ]
  },
  {
   "cell_type": "markdown",
   "id": "46b26131",
   "metadata": {},
   "source": [
    "Видим, что конверсия в покупку в контрольной группе выше, чем в тестовой."
   ]
  },
  {
   "cell_type": "markdown",
   "id": "b0b159bc",
   "metadata": {},
   "source": [
    "##### Посчитаем ARPU - средний доход с привлеченного ПОЛЬЗОВАТЕЛЯ\n",
    "ARPU = доход/общее количество пользователей"
   ]
  },
  {
   "cell_type": "code",
   "execution_count": 65,
   "id": "50daca06",
   "metadata": {},
   "outputs": [],
   "source": [
    "revenue_per_users = task_2.groupby('testgroup')\\\n",
    "    .agg({'revenue':'sum'})"
   ]
  },
  {
   "cell_type": "code",
   "execution_count": 66,
   "id": "d6ce65ba",
   "metadata": {},
   "outputs": [],
   "source": [
    "users = users.merge(revenue_per_users, on='testgroup')"
   ]
  },
  {
   "cell_type": "code",
   "execution_count": 67,
   "id": "bdf09c5d",
   "metadata": {},
   "outputs": [],
   "source": [
    "users['arpu'] = users.revenue/users.count_users"
   ]
  },
  {
   "cell_type": "markdown",
   "id": "6ab01b0f",
   "metadata": {},
   "source": [
    "####  Посчитаем ARPPU - средний доход с привлеченного КЛИЕНТА\n",
    "ARPPU = доход/количество клиентов"
   ]
  },
  {
   "cell_type": "code",
   "execution_count": 68,
   "id": "76b2c969",
   "metadata": {},
   "outputs": [],
   "source": [
    "users['arppu'] = users.revenue/users.paying_users"
   ]
  },
  {
   "cell_type": "code",
   "execution_count": 69,
   "id": "749f33da",
   "metadata": {},
   "outputs": [
    {
     "data": {
      "text/html": [
       "<div>\n",
       "<style scoped>\n",
       "    .dataframe tbody tr th:only-of-type {\n",
       "        vertical-align: middle;\n",
       "    }\n",
       "\n",
       "    .dataframe tbody tr th {\n",
       "        vertical-align: top;\n",
       "    }\n",
       "\n",
       "    .dataframe thead th {\n",
       "        text-align: right;\n",
       "    }\n",
       "</style>\n",
       "<table border=\"1\" class=\"dataframe\">\n",
       "  <thead>\n",
       "    <tr style=\"text-align: right;\">\n",
       "      <th></th>\n",
       "      <th>testgroup</th>\n",
       "      <th>count_users</th>\n",
       "      <th>paying_users</th>\n",
       "      <th>cr</th>\n",
       "      <th>revenue</th>\n",
       "      <th>arpu</th>\n",
       "      <th>arppu</th>\n",
       "    </tr>\n",
       "  </thead>\n",
       "  <tbody>\n",
       "    <tr>\n",
       "      <th>0</th>\n",
       "      <td>a</td>\n",
       "      <td>202103</td>\n",
       "      <td>1928</td>\n",
       "      <td>0.953969</td>\n",
       "      <td>5136189</td>\n",
       "      <td>25.413720</td>\n",
       "      <td>2663.998444</td>\n",
       "    </tr>\n",
       "    <tr>\n",
       "      <th>1</th>\n",
       "      <td>b</td>\n",
       "      <td>202667</td>\n",
       "      <td>1805</td>\n",
       "      <td>0.890624</td>\n",
       "      <td>5421603</td>\n",
       "      <td>26.751287</td>\n",
       "      <td>3003.658172</td>\n",
       "    </tr>\n",
       "  </tbody>\n",
       "</table>\n",
       "</div>"
      ],
      "text/plain": [
       "  testgroup  count_users  paying_users        cr  revenue       arpu   \n",
       "0         a       202103          1928  0.953969  5136189  25.413720  \\\n",
       "1         b       202667          1805  0.890624  5421603  26.751287   \n",
       "\n",
       "         arppu  \n",
       "0  2663.998444  \n",
       "1  3003.658172  "
      ]
     },
     "execution_count": 69,
     "metadata": {},
     "output_type": "execute_result"
    }
   ],
   "source": [
    "users"
   ]
  },
  {
   "cell_type": "markdown",
   "id": "cd787dae",
   "metadata": {},
   "source": [
    "Средний доход с привлеченного пользователя и средний доход с привлеченного клиента в тестовой группе ВЫШЕ, чем в котнрольной."
   ]
  },
  {
   "cell_type": "code",
   "execution_count": null,
   "id": "03981159",
   "metadata": {},
   "outputs": [],
   "source": []
  },
  {
   "cell_type": "markdown",
   "id": "686bbaf7",
   "metadata": {},
   "source": [
    "#### Теперь проверим, статистически значимы ли различия в доходе между тестовой и контрольной группой"
   ]
  },
  {
   "cell_type": "markdown",
   "id": "c475491a",
   "metadata": {},
   "source": [
    "##### Формулирую гипотезы:\n",
    "Есть ли статистически значимых различия в доходе?\n",
    "\n",
    "H0 - статистически значимых различий между группами нет\n",
    "\n",
    "H1 - статистически значимые различия между группами есть"
   ]
  },
  {
   "cell_type": "code",
   "execution_count": 36,
   "id": "6735fae7",
   "metadata": {},
   "outputs": [],
   "source": [
    "# построим boxplot, чтобы наглядно посмотреть есть ли в выбоках выбросы"
   ]
  },
  {
   "cell_type": "code",
   "execution_count": 37,
   "id": "6a32405c",
   "metadata": {
    "scrolled": false
   },
   "outputs": [
    {
     "data": {
      "text/plain": [
       "<AxesSubplot:xlabel='testgroup', ylabel='revenue'>"
      ]
     },
     "execution_count": 37,
     "metadata": {},
     "output_type": "execute_result"
    },
    {
     "data": {
      "image/png": "[encoded data removed]",
      "text/plain": [
       "<Figure size 432x288 with 1 Axes>"
      ]
     },
     "metadata": {
      "needs_background": "light"
     },
     "output_type": "display_data"
    }
   ],
   "source": [
    "sns.boxplot(x='testgroup',y='revenue', data = task_2)"
   ]
  },
  {
   "cell_type": "markdown",
   "id": "84c33107",
   "metadata": {},
   "source": [
    "Видим, что в контрольной группе есть выбросы (экстремально большие значения)\n",
    "\n",
    "проверим распределения на нормальность. Перед проверкой нужно произвести семплирование, т.к на больших выборках есть вероятность получить неверные результаты"
   ]
  },
  {
   "cell_type": "code",
   "execution_count": 38,
   "id": "2da7c982",
   "metadata": {
    "scrolled": true
   },
   "outputs": [
    {
     "data": {
      "text/html": [
       "<div>\n",
       "<style scoped>\n",
       "    .dataframe tbody tr th:only-of-type {\n",
       "        vertical-align: middle;\n",
       "    }\n",
       "\n",
       "    .dataframe tbody tr th {\n",
       "        vertical-align: top;\n",
       "    }\n",
       "\n",
       "    .dataframe thead th {\n",
       "        text-align: right;\n",
       "    }\n",
       "</style>\n",
       "<table border=\"1\" class=\"dataframe\">\n",
       "  <thead>\n",
       "    <tr style=\"text-align: right;\">\n",
       "      <th></th>\n",
       "      <th>user_id</th>\n",
       "      <th>revenue</th>\n",
       "    </tr>\n",
       "  </thead>\n",
       "  <tbody>\n",
       "    <tr>\n",
       "      <th>count</th>\n",
       "      <td>202667.000000</td>\n",
       "      <td>202667.000000</td>\n",
       "    </tr>\n",
       "    <tr>\n",
       "      <th>mean</th>\n",
       "      <td>202215.564389</td>\n",
       "      <td>26.751287</td>\n",
       "    </tr>\n",
       "    <tr>\n",
       "      <th>std</th>\n",
       "      <td>116891.926690</td>\n",
       "      <td>287.324162</td>\n",
       "    </tr>\n",
       "    <tr>\n",
       "      <th>min</th>\n",
       "      <td>1.000000</td>\n",
       "      <td>0.000000</td>\n",
       "    </tr>\n",
       "    <tr>\n",
       "      <th>25%</th>\n",
       "      <td>100855.500000</td>\n",
       "      <td>0.000000</td>\n",
       "    </tr>\n",
       "    <tr>\n",
       "      <th>50%</th>\n",
       "      <td>201821.000000</td>\n",
       "      <td>0.000000</td>\n",
       "    </tr>\n",
       "    <tr>\n",
       "      <th>75%</th>\n",
       "      <td>303602.500000</td>\n",
       "      <td>0.000000</td>\n",
       "    </tr>\n",
       "    <tr>\n",
       "      <th>max</th>\n",
       "      <td>404770.000000</td>\n",
       "      <td>4000.000000</td>\n",
       "    </tr>\n",
       "  </tbody>\n",
       "</table>\n",
       "</div>"
      ],
      "text/plain": [
       "             user_id        revenue\n",
       "count  202667.000000  202667.000000\n",
       "mean   202215.564389      26.751287\n",
       "std    116891.926690     287.324162\n",
       "min         1.000000       0.000000\n",
       "25%    100855.500000       0.000000\n",
       "50%    201821.000000       0.000000\n",
       "75%    303602.500000       0.000000\n",
       "max    404770.000000    4000.000000"
      ]
     },
     "execution_count": 38,
     "metadata": {},
     "output_type": "execute_result"
    }
   ],
   "source": [
    "task_2.query('testgroup == \"b\"').describe()"
   ]
  },
  {
   "cell_type": "code",
   "execution_count": 39,
   "id": "e5ae8516",
   "metadata": {},
   "outputs": [
    {
     "data": {
      "text/html": [
       "<div>\n",
       "<style scoped>\n",
       "    .dataframe tbody tr th:only-of-type {\n",
       "        vertical-align: middle;\n",
       "    }\n",
       "\n",
       "    .dataframe tbody tr th {\n",
       "        vertical-align: top;\n",
       "    }\n",
       "\n",
       "    .dataframe thead th {\n",
       "        text-align: right;\n",
       "    }\n",
       "</style>\n",
       "<table border=\"1\" class=\"dataframe\">\n",
       "  <thead>\n",
       "    <tr style=\"text-align: right;\">\n",
       "      <th></th>\n",
       "      <th>user_id</th>\n",
       "      <th>revenue</th>\n",
       "    </tr>\n",
       "  </thead>\n",
       "  <tbody>\n",
       "    <tr>\n",
       "      <th>count</th>\n",
       "      <td>202103.000000</td>\n",
       "      <td>202103.000000</td>\n",
       "    </tr>\n",
       "    <tr>\n",
       "      <th>mean</th>\n",
       "      <td>202555.909843</td>\n",
       "      <td>25.413720</td>\n",
       "    </tr>\n",
       "    <tr>\n",
       "      <th>std</th>\n",
       "      <td>116802.329266</td>\n",
       "      <td>920.768137</td>\n",
       "    </tr>\n",
       "    <tr>\n",
       "      <th>min</th>\n",
       "      <td>2.000000</td>\n",
       "      <td>0.000000</td>\n",
       "    </tr>\n",
       "    <tr>\n",
       "      <th>25%</th>\n",
       "      <td>101502.500000</td>\n",
       "      <td>0.000000</td>\n",
       "    </tr>\n",
       "    <tr>\n",
       "      <th>50%</th>\n",
       "      <td>202988.000000</td>\n",
       "      <td>0.000000</td>\n",
       "    </tr>\n",
       "    <tr>\n",
       "      <th>75%</th>\n",
       "      <td>303559.000000</td>\n",
       "      <td>0.000000</td>\n",
       "    </tr>\n",
       "    <tr>\n",
       "      <th>max</th>\n",
       "      <td>404769.000000</td>\n",
       "      <td>37433.000000</td>\n",
       "    </tr>\n",
       "  </tbody>\n",
       "</table>\n",
       "</div>"
      ],
      "text/plain": [
       "             user_id        revenue\n",
       "count  202103.000000  202103.000000\n",
       "mean   202555.909843      25.413720\n",
       "std    116802.329266     920.768137\n",
       "min         2.000000       0.000000\n",
       "25%    101502.500000       0.000000\n",
       "50%    202988.000000       0.000000\n",
       "75%    303559.000000       0.000000\n",
       "max    404769.000000   37433.000000"
      ]
     },
     "execution_count": 39,
     "metadata": {},
     "output_type": "execute_result"
    }
   ],
   "source": [
    "task_2.query('testgroup == \"a\"').describe()"
   ]
  },
  {
   "cell_type": "code",
   "execution_count": 40,
   "id": "5c7707d9",
   "metadata": {},
   "outputs": [],
   "source": [
    "sample_test_A = task_2[task_2['testgroup'] == 'a']['revenue'].sample(1000, random_state=17)"
   ]
  },
  {
   "cell_type": "code",
   "execution_count": 41,
   "id": "a1579514",
   "metadata": {},
   "outputs": [
    {
     "data": {
      "text/plain": [
       "ShapiroResult(statistic=0.06614720821380615, pvalue=0.0)"
      ]
     },
     "execution_count": 41,
     "metadata": {},
     "output_type": "execute_result"
    }
   ],
   "source": [
    "stats.shapiro(sample_test_A)"
   ]
  },
  {
   "cell_type": "code",
   "execution_count": 42,
   "id": "5df4888e",
   "metadata": {},
   "outputs": [],
   "source": [
    "sample_test_B = task_2[task_2['testgroup'] == 'b']['revenue'].sample(1000, random_state=17)"
   ]
  },
  {
   "cell_type": "code",
   "execution_count": 43,
   "id": "eade88a1",
   "metadata": {
    "scrolled": true
   },
   "outputs": [
    {
     "data": {
      "text/plain": [
       "ShapiroResult(statistic=0.06715953350067139, pvalue=0.0)"
      ]
     },
     "execution_count": 43,
     "metadata": {},
     "output_type": "execute_result"
    }
   ],
   "source": [
    "stats.shapiro(sample_test_B)"
   ]
  },
  {
   "cell_type": "markdown",
   "id": "1beec510",
   "metadata": {},
   "source": [
    "По результатам теста Шапиро pvalue=0.0 в обоих случаях - это говорит нам о том, что распределение в группе B так же Не является нормальным. Поэтому сравним выборки с помощью непараметрического аналога - U-критерия Манна-Уитни. Он переводит все данные в рангову шкалу, после этого считает какой средний ранг оказался в первой группе и во второй. Этот критерий менее чувствителен к выбросам"
   ]
  },
  {
   "cell_type": "code",
   "execution_count": 44,
   "id": "090d1689",
   "metadata": {},
   "outputs": [
    {
     "data": {
      "text/plain": [
       "MannwhitneyuResult(statistic=20491259376.0, pvalue=0.06269701316074398)"
      ]
     },
     "execution_count": 44,
     "metadata": {},
     "output_type": "execute_result"
    }
   ],
   "source": [
    "mannwhitneyu(task_2[task_2.testgroup=='a'].revenue,\n",
    "         task_2[task_2.testgroup=='b'].revenue)"
   ]
  },
  {
   "cell_type": "markdown",
   "id": "a3fffe2a",
   "metadata": {},
   "source": [
    "#### При пороге уровня значимости 0,05, получили pvalue=0.06269701316074398, что не позволяет нам отклонить гипотезу Н0."
   ]
  },
  {
   "cell_type": "markdown",
   "id": "a1c130ef",
   "metadata": {},
   "source": [
    "##### Проверим есть ли статистически значимые различия между группами с помощью bootstrap"
   ]
  },
  {
   "cell_type": "code",
   "execution_count": 45,
   "id": "6499c48e",
   "metadata": {},
   "outputs": [],
   "source": [
    "# Объявляем функцию, которя позволит проверить гипотезы с помощью бутстрапа\n",
    "def get_bootstrap_mean(\n",
    "    data_column_1, # числовые значения для первой выборки\n",
    "    data_column_2, # числовые значения для второй выборки\n",
    "    boot_it = 2000, # количество бутстрап_подвыборок\n",
    "    statistic = np.mean, # интересующая нас статистика\n",
    "    bootstrap_conf_level = 0.99 # уровень значимости\n",
    "):\n",
    "    boot_len = max([len(data_column_1), len(data_column_2)])\n",
    "    boot_data = []\n",
    "    for i in tqdm(range(boot_it)): # извлекаем подвыборки\n",
    "        samples_1 = data_column_1.sample(boot_len, replace = True).values # True - параметр возвращения\n",
    "        \n",
    "        samples_2 = data_column_2.sample(boot_len, replace = True).values # True - параметр возвращения\n",
    "        \n",
    "        boot_data.append(statistic(samples_1 - samples_2)) # mean()- применяем статистику\n",
    "        \n",
    "    pd_boot_data = pd.DataFrame(boot_data)\n",
    "    \n",
    "    left_quant = (1 - bootstrap_conf_level)/2\n",
    "    right_quant = 1 - (1 - bootstrap_conf_level)/2\n",
    "    ci = pd_boot_data.quantile([left_quant,right_quant])\n",
    "    \n",
    "    p_1 = norm.cdf(\n",
    "        x = 0,\n",
    "        loc = np.mean(boot_data),\n",
    "        scale = np.std(boot_data) )\n",
    "    \n",
    "    p_2 = norm.cdf(\n",
    "        x = 0,\n",
    "        loc = -np.mean(boot_data),\n",
    "        scale = np.std(boot_data) )\n",
    "    p_value = min(p_1, p_2) * 2\n",
    "    \n",
    "    # Визуализация\n",
    "    plt.hist(pd_boot_data[0], bins = 50)\n",
    "    \n",
    "    plt.style.use('ggplot')\n",
    "    plt.vlines(ci, ymin = 0, ymax = 50, linestyle = '--')\n",
    "    plt.xlabel('boot_data')\n",
    "    plt.ylabel('frequency')\n",
    "    plt.title('Histogram of boot_data')\n",
    "    plt.show()\n",
    "    \n",
    "    return {'boot_data' : boot_data,\n",
    "            'ci' : ci,\n",
    "            'p_value' : p_value}"
   ]
  },
  {
   "cell_type": "code",
   "execution_count": 46,
   "id": "0a25be4d",
   "metadata": {
    "scrolled": true
   },
   "outputs": [
    {
     "data": {
      "application/vnd.jupyter.widget-view+json": {
       "model_id": "414eb1501a82491a9ef54233c70117bb",
       "version_major": 2,
       "version_minor": 0
      },
      "text/plain": [
       "  0%|          | 0/2000 [00:00<?, ?it/s]"
      ]
     },
     "metadata": {},
     "output_type": "display_data"
    },
    {
     "data": {
      "image/png": "[encoded data removed]",
      "text/plain": [
       "<Figure size 432x288 with 1 Axes>"
      ]
     },
     "metadata": {
      "needs_background": "light"
     },
     "output_type": "display_data"
    }
   ],
   "source": [
    "booted_data = get_bootstrap_mean(task_2.query('testgroup==\"a\"').revenue, task_2.query('testgroup==\"b\"').revenue)"
   ]
  },
  {
   "cell_type": "code",
   "execution_count": 47,
   "id": "0e4dc01d",
   "metadata": {},
   "outputs": [
    {
     "data": {
      "text/plain": [
       "0.5231564552061648"
      ]
     },
     "execution_count": 47,
     "metadata": {},
     "output_type": "execute_result"
    }
   ],
   "source": [
    "booted_data['p_value']"
   ]
  },
  {
   "cell_type": "code",
   "execution_count": 48,
   "id": "631c1f67",
   "metadata": {},
   "outputs": [
    {
     "data": {
      "text/html": [
       "<div>\n",
       "<style scoped>\n",
       "    .dataframe tbody tr th:only-of-type {\n",
       "        vertical-align: middle;\n",
       "    }\n",
       "\n",
       "    .dataframe tbody tr th {\n",
       "        vertical-align: top;\n",
       "    }\n",
       "\n",
       "    .dataframe thead th {\n",
       "        text-align: right;\n",
       "    }\n",
       "</style>\n",
       "<table border=\"1\" class=\"dataframe\">\n",
       "  <thead>\n",
       "    <tr style=\"text-align: right;\">\n",
       "      <th></th>\n",
       "      <th>0</th>\n",
       "    </tr>\n",
       "  </thead>\n",
       "  <tbody>\n",
       "    <tr>\n",
       "      <th>0.005</th>\n",
       "      <td>-6.668166</td>\n",
       "    </tr>\n",
       "    <tr>\n",
       "      <th>0.995</th>\n",
       "      <td>4.381247</td>\n",
       "    </tr>\n",
       "  </tbody>\n",
       "</table>\n",
       "</div>"
      ],
      "text/plain": [
       "              0\n",
       "0.005 -6.668166\n",
       "0.995  4.381247"
      ]
     },
     "execution_count": 48,
     "metadata": {},
     "output_type": "execute_result"
    }
   ],
   "source": [
    "booted_data['ci']"
   ]
  },
  {
   "cell_type": "markdown",
   "id": "748ec98f",
   "metadata": {},
   "source": [
    "#### pvalue, полученный с помощью bootstrap = 0.5388368631647105, что так же НЕ позволяет нам отклонить гипотезу Н0, о том, что в группах нет статистически значимых различий в доходе."
   ]
  },
  {
   "cell_type": "code",
   "execution_count": null,
   "id": "94374597",
   "metadata": {},
   "outputs": [],
   "source": []
  },
  {
   "cell_type": "markdown",
   "id": "8314ec24",
   "metadata": {},
   "source": [
    "#### Проверим, есть ли статистически значимые различия между группами в ARPU (в среднем доходе на пользователя)\n",
    "Предположим, что разлий нет - Н0, различия есть - Н1"
   ]
  },
  {
   "cell_type": "code",
   "execution_count": 54,
   "id": "5d4ca2b3",
   "metadata": {},
   "outputs": [
    {
     "data": {
      "text/html": [
       "<div>\n",
       "<style scoped>\n",
       "    .dataframe tbody tr th:only-of-type {\n",
       "        vertical-align: middle;\n",
       "    }\n",
       "\n",
       "    .dataframe tbody tr th {\n",
       "        vertical-align: top;\n",
       "    }\n",
       "\n",
       "    .dataframe thead th {\n",
       "        text-align: right;\n",
       "    }\n",
       "</style>\n",
       "<table border=\"1\" class=\"dataframe\">\n",
       "  <thead>\n",
       "    <tr style=\"text-align: right;\">\n",
       "      <th></th>\n",
       "      <th>user_id</th>\n",
       "      <th>revenue</th>\n",
       "      <th>testgroup</th>\n",
       "    </tr>\n",
       "  </thead>\n",
       "  <tbody>\n",
       "    <tr>\n",
       "      <th>0</th>\n",
       "      <td>1</td>\n",
       "      <td>0</td>\n",
       "      <td>b</td>\n",
       "    </tr>\n",
       "    <tr>\n",
       "      <th>1</th>\n",
       "      <td>2</td>\n",
       "      <td>0</td>\n",
       "      <td>a</td>\n",
       "    </tr>\n",
       "    <tr>\n",
       "      <th>2</th>\n",
       "      <td>3</td>\n",
       "      <td>0</td>\n",
       "      <td>a</td>\n",
       "    </tr>\n",
       "    <tr>\n",
       "      <th>3</th>\n",
       "      <td>4</td>\n",
       "      <td>0</td>\n",
       "      <td>b</td>\n",
       "    </tr>\n",
       "    <tr>\n",
       "      <th>4</th>\n",
       "      <td>5</td>\n",
       "      <td>0</td>\n",
       "      <td>b</td>\n",
       "    </tr>\n",
       "    <tr>\n",
       "      <th>...</th>\n",
       "      <td>...</td>\n",
       "      <td>...</td>\n",
       "      <td>...</td>\n",
       "    </tr>\n",
       "    <tr>\n",
       "      <th>404765</th>\n",
       "      <td>404766</td>\n",
       "      <td>0</td>\n",
       "      <td>a</td>\n",
       "    </tr>\n",
       "    <tr>\n",
       "      <th>404766</th>\n",
       "      <td>404767</td>\n",
       "      <td>0</td>\n",
       "      <td>b</td>\n",
       "    </tr>\n",
       "    <tr>\n",
       "      <th>404767</th>\n",
       "      <td>404768</td>\n",
       "      <td>231</td>\n",
       "      <td>a</td>\n",
       "    </tr>\n",
       "    <tr>\n",
       "      <th>404768</th>\n",
       "      <td>404769</td>\n",
       "      <td>0</td>\n",
       "      <td>a</td>\n",
       "    </tr>\n",
       "    <tr>\n",
       "      <th>404769</th>\n",
       "      <td>404770</td>\n",
       "      <td>0</td>\n",
       "      <td>b</td>\n",
       "    </tr>\n",
       "  </tbody>\n",
       "</table>\n",
       "<p>404770 rows × 3 columns</p>\n",
       "</div>"
      ],
      "text/plain": [
       "        user_id  revenue testgroup\n",
       "0             1        0         b\n",
       "1             2        0         a\n",
       "2             3        0         a\n",
       "3             4        0         b\n",
       "4             5        0         b\n",
       "...         ...      ...       ...\n",
       "404765   404766        0         a\n",
       "404766   404767        0         b\n",
       "404767   404768      231         a\n",
       "404768   404769        0         a\n",
       "404769   404770        0         b\n",
       "\n",
       "[404770 rows x 3 columns]"
      ]
     },
     "execution_count": 54,
     "metadata": {},
     "output_type": "execute_result"
    }
   ],
   "source": [
    "task_2"
   ]
  },
  {
   "cell_type": "code",
   "execution_count": 55,
   "id": "598efdef",
   "metadata": {},
   "outputs": [
    {
     "data": {
      "text/plain": [
       "<AxesSubplot:xlabel='testgroup', ylabel='revenue'>"
      ]
     },
     "execution_count": 55,
     "metadata": {},
     "output_type": "execute_result"
    },
    {
     "data": {
      "image/png": "[encoded data removed]",
      "text/plain": [
       "<Figure size 432x288 with 1 Axes>"
      ]
     },
     "metadata": {},
     "output_type": "display_data"
    }
   ],
   "source": [
    "sns.boxplot(x='testgroup',y='revenue', data = task_2)"
   ]
  },
  {
   "cell_type": "markdown",
   "id": "8c39753e",
   "metadata": {},
   "source": [
    "В контрольной группе есть выбросы"
   ]
  },
  {
   "cell_type": "code",
   "execution_count": 69,
   "id": "1352d368",
   "metadata": {},
   "outputs": [
    {
     "data": {
      "text/html": [
       "<div>\n",
       "<style scoped>\n",
       "    .dataframe tbody tr th:only-of-type {\n",
       "        vertical-align: middle;\n",
       "    }\n",
       "\n",
       "    .dataframe tbody tr th {\n",
       "        vertical-align: top;\n",
       "    }\n",
       "\n",
       "    .dataframe thead th {\n",
       "        text-align: right;\n",
       "    }\n",
       "</style>\n",
       "<table border=\"1\" class=\"dataframe\">\n",
       "  <thead>\n",
       "    <tr style=\"text-align: right;\">\n",
       "      <th></th>\n",
       "      <th>user_id</th>\n",
       "      <th>revenue</th>\n",
       "    </tr>\n",
       "  </thead>\n",
       "  <tbody>\n",
       "    <tr>\n",
       "      <th>count</th>\n",
       "      <td>404770.000000</td>\n",
       "      <td>404770.000000</td>\n",
       "    </tr>\n",
       "    <tr>\n",
       "      <th>mean</th>\n",
       "      <td>202385.500000</td>\n",
       "      <td>26.083435</td>\n",
       "    </tr>\n",
       "    <tr>\n",
       "      <th>std</th>\n",
       "      <td>116847.178567</td>\n",
       "      <td>681.652928</td>\n",
       "    </tr>\n",
       "    <tr>\n",
       "      <th>min</th>\n",
       "      <td>1.000000</td>\n",
       "      <td>0.000000</td>\n",
       "    </tr>\n",
       "    <tr>\n",
       "      <th>25%</th>\n",
       "      <td>101193.250000</td>\n",
       "      <td>0.000000</td>\n",
       "    </tr>\n",
       "    <tr>\n",
       "      <th>50%</th>\n",
       "      <td>202385.500000</td>\n",
       "      <td>0.000000</td>\n",
       "    </tr>\n",
       "    <tr>\n",
       "      <th>75%</th>\n",
       "      <td>303577.750000</td>\n",
       "      <td>0.000000</td>\n",
       "    </tr>\n",
       "    <tr>\n",
       "      <th>max</th>\n",
       "      <td>404770.000000</td>\n",
       "      <td>37433.000000</td>\n",
       "    </tr>\n",
       "  </tbody>\n",
       "</table>\n",
       "</div>"
      ],
      "text/plain": [
       "             user_id        revenue\n",
       "count  404770.000000  404770.000000\n",
       "mean   202385.500000      26.083435\n",
       "std    116847.178567     681.652928\n",
       "min         1.000000       0.000000\n",
       "25%    101193.250000       0.000000\n",
       "50%    202385.500000       0.000000\n",
       "75%    303577.750000       0.000000\n",
       "max    404770.000000   37433.000000"
      ]
     },
     "execution_count": 69,
     "metadata": {},
     "output_type": "execute_result"
    }
   ],
   "source": [
    "task_2.describe()"
   ]
  },
  {
   "cell_type": "markdown",
   "id": "76e9fe0a",
   "metadata": {},
   "source": [
    "Проверяем выборки на нормальность, предварительно произведя семплирование"
   ]
  },
  {
   "cell_type": "code",
   "execution_count": 70,
   "id": "ac69c85a",
   "metadata": {},
   "outputs": [],
   "source": [
    "sample_test_users_A = task_2[task_2['testgroup'] == 'a']['revenue'].sample(1000, random_state=17)"
   ]
  },
  {
   "cell_type": "code",
   "execution_count": 71,
   "id": "041481e2",
   "metadata": {},
   "outputs": [
    {
     "data": {
      "text/plain": [
       "ShapiroResult(statistic=0.06614720821380615, pvalue=0.0)"
      ]
     },
     "execution_count": 71,
     "metadata": {},
     "output_type": "execute_result"
    }
   ],
   "source": [
    "stats.shapiro(sample_test_users_A)"
   ]
  },
  {
   "cell_type": "code",
   "execution_count": 72,
   "id": "892e020d",
   "metadata": {},
   "outputs": [],
   "source": [
    "sample_test_users_B = task_2[task_2['testgroup'] == 'b']['revenue'].sample(1000, random_state=17)"
   ]
  },
  {
   "cell_type": "code",
   "execution_count": 73,
   "id": "70d57259",
   "metadata": {},
   "outputs": [
    {
     "data": {
      "text/plain": [
       "ShapiroResult(statistic=0.06715953350067139, pvalue=0.0)"
      ]
     },
     "execution_count": 73,
     "metadata": {},
     "output_type": "execute_result"
    }
   ],
   "source": [
    "stats.shapiro(sample_test_users_B)"
   ]
  },
  {
   "cell_type": "markdown",
   "id": "f2ec331c",
   "metadata": {},
   "source": [
    "##### В обоих группах p-value < 0.05, что говорит нам о НЕ нормальности распределений. Сравним наши выборки с помощью непараметрического аналога - U-критерия Манна-Уитни. Он переводит все данные в ранговую шкалу, после этого считает какой средний ранг оказался в первой группе и во второй. Этот критерий менее чувствителен к выбросам¶"
   ]
  },
  {
   "cell_type": "code",
   "execution_count": 74,
   "id": "9c4926dc",
   "metadata": {},
   "outputs": [
    {
     "data": {
      "text/plain": [
       "MannwhitneyuResult(statistic=20491259376.0, pvalue=0.06269701316074398)"
      ]
     },
     "execution_count": 74,
     "metadata": {},
     "output_type": "execute_result"
    }
   ],
   "source": [
    "mannwhitneyu(task_2[task_2.testgroup=='a'].revenue,\n",
    "         task_2[task_2.testgroup=='b'].revenue)"
   ]
  },
  {
   "cell_type": "markdown",
   "id": "00e7473b",
   "metadata": {},
   "source": [
    "pvalue=0.06 - это значит, что средний доход на пользователя в тестовой и котнрольной группах статистически значимо  НЕ различаются между собой и у нас нет основания отклонить Н0."
   ]
  },
  {
   "cell_type": "code",
   "execution_count": null,
   "id": "48baf1cc",
   "metadata": {},
   "outputs": [],
   "source": []
  },
  {
   "cell_type": "markdown",
   "id": "fd1e8cc9",
   "metadata": {},
   "source": [
    "#### Теперь посмотрим  есть ли статистически значимые различия между группами в ARPPU (в среднем доходе на клиента)\n",
    "Предположим, что разлий нет - Н0, различия есть - Н1\n"
   ]
  },
  {
   "cell_type": "code",
   "execution_count": 75,
   "id": "09ad2072",
   "metadata": {},
   "outputs": [],
   "source": [
    "paying_df = task_2.query('revenue>0')\n",
    "# отберем только платящих пользователей и проверим, отличаются ли группы клиентов( платящих пользователей между) собой по доходу   "
   ]
  },
  {
   "cell_type": "code",
   "execution_count": 76,
   "id": "c98af53a",
   "metadata": {},
   "outputs": [
    {
     "data": {
      "text/plain": [
       "<AxesSubplot:xlabel='testgroup', ylabel='revenue'>"
      ]
     },
     "execution_count": 76,
     "metadata": {},
     "output_type": "execute_result"
    },
    {
     "data": {
      "image/png": "[encoded data removed]",
      "text/plain": [
       "<Figure size 432x288 with 1 Axes>"
      ]
     },
     "metadata": {},
     "output_type": "display_data"
    }
   ],
   "source": [
    "sns.boxplot(x='testgroup',y='revenue', data = paying_df)"
   ]
  },
  {
   "cell_type": "markdown",
   "id": "8d0b7e03",
   "metadata": {},
   "source": [
    "##### Видим, что в контрольной группе есть выбросы (экстремально большие значения)\n",
    "\n",
    "###### проверим распределения на нормальность. Перед проверкой нужно произвести семплирование, т.к на больших выборках есть вероятность получить неверные результаты и уберем выбросы по 0.99 процентилю"
   ]
  },
  {
   "cell_type": "code",
   "execution_count": 77,
   "id": "8c4bfd3a",
   "metadata": {},
   "outputs": [
    {
     "data": {
      "text/html": [
       "<div>\n",
       "<style scoped>\n",
       "    .dataframe tbody tr th:only-of-type {\n",
       "        vertical-align: middle;\n",
       "    }\n",
       "\n",
       "    .dataframe tbody tr th {\n",
       "        vertical-align: top;\n",
       "    }\n",
       "\n",
       "    .dataframe thead th {\n",
       "        text-align: right;\n",
       "    }\n",
       "</style>\n",
       "<table border=\"1\" class=\"dataframe\">\n",
       "  <thead>\n",
       "    <tr style=\"text-align: right;\">\n",
       "      <th></th>\n",
       "      <th>user_id</th>\n",
       "      <th>revenue</th>\n",
       "    </tr>\n",
       "  </thead>\n",
       "  <tbody>\n",
       "    <tr>\n",
       "      <th>count</th>\n",
       "      <td>3733.000000</td>\n",
       "      <td>3733.000000</td>\n",
       "    </tr>\n",
       "    <tr>\n",
       "      <th>mean</th>\n",
       "      <td>202900.006161</td>\n",
       "      <td>2828.232521</td>\n",
       "    </tr>\n",
       "    <tr>\n",
       "      <th>std</th>\n",
       "      <td>116520.555209</td>\n",
       "      <td>6516.770722</td>\n",
       "    </tr>\n",
       "    <tr>\n",
       "      <th>min</th>\n",
       "      <td>73.000000</td>\n",
       "      <td>200.000000</td>\n",
       "    </tr>\n",
       "    <tr>\n",
       "      <th>25%</th>\n",
       "      <td>101862.000000</td>\n",
       "      <td>309.000000</td>\n",
       "    </tr>\n",
       "    <tr>\n",
       "      <th>50%</th>\n",
       "      <td>202866.000000</td>\n",
       "      <td>2052.000000</td>\n",
       "    </tr>\n",
       "    <tr>\n",
       "      <th>75%</th>\n",
       "      <td>301238.000000</td>\n",
       "      <td>3126.000000</td>\n",
       "    </tr>\n",
       "    <tr>\n",
       "      <th>max</th>\n",
       "      <td>404768.000000</td>\n",
       "      <td>37433.000000</td>\n",
       "    </tr>\n",
       "  </tbody>\n",
       "</table>\n",
       "</div>"
      ],
      "text/plain": [
       "             user_id       revenue\n",
       "count    3733.000000   3733.000000\n",
       "mean   202900.006161   2828.232521\n",
       "std    116520.555209   6516.770722\n",
       "min        73.000000    200.000000\n",
       "25%    101862.000000    309.000000\n",
       "50%    202866.000000   2052.000000\n",
       "75%    301238.000000   3126.000000\n",
       "max    404768.000000  37433.000000"
      ]
     },
     "execution_count": 77,
     "metadata": {},
     "output_type": "execute_result"
    }
   ],
   "source": [
    "paying_df.describe()"
   ]
  },
  {
   "cell_type": "code",
   "execution_count": 78,
   "id": "afcce004",
   "metadata": {},
   "outputs": [],
   "source": [
    "paying_df = paying_df.loc[paying_df['revenue'] < paying_df.revenue.quantile(q=0.99)]\n",
    "# отсеила выбросы"
   ]
  },
  {
   "cell_type": "code",
   "execution_count": 79,
   "id": "1266a2bd",
   "metadata": {
    "scrolled": false
   },
   "outputs": [
    {
     "data": {
      "text/plain": [
       "<AxesSubplot:xlabel='testgroup', ylabel='revenue'>"
      ]
     },
     "execution_count": 79,
     "metadata": {},
     "output_type": "execute_result"
    },
    {
     "data": {
      "image/png": "[encoded data removed]",
      "text/plain": [
       "<Figure size 432x288 with 1 Axes>"
      ]
     },
     "metadata": {},
     "output_type": "display_data"
    }
   ],
   "source": [
    "sns.boxplot(x='testgroup',y='revenue', data = paying_df)"
   ]
  },
  {
   "cell_type": "code",
   "execution_count": 80,
   "id": "fc1b53d7",
   "metadata": {},
   "outputs": [],
   "source": [
    "# Проверяем выборки на нормальность, предварительно произведя семплирование"
   ]
  },
  {
   "cell_type": "code",
   "execution_count": 81,
   "id": "23b5d3de",
   "metadata": {},
   "outputs": [],
   "source": [
    "sample_test_client_A = paying_df[paying_df['testgroup'] == 'a']['revenue'].sample(1000, random_state=17)"
   ]
  },
  {
   "cell_type": "code",
   "execution_count": 82,
   "id": "5b235afb",
   "metadata": {},
   "outputs": [
    {
     "data": {
      "text/plain": [
       "ShapiroResult(statistic=0.22374224662780762, pvalue=0.0)"
      ]
     },
     "execution_count": 82,
     "metadata": {},
     "output_type": "execute_result"
    }
   ],
   "source": [
    "stats.shapiro(sample_test_client_A)"
   ]
  },
  {
   "cell_type": "code",
   "execution_count": 83,
   "id": "0f6a8e5a",
   "metadata": {},
   "outputs": [],
   "source": [
    "sample_test_client_B = paying_df[paying_df['testgroup'] == 'b']['revenue'].sample(1000, random_state=17)"
   ]
  },
  {
   "cell_type": "code",
   "execution_count": 84,
   "id": "4a52dabf",
   "metadata": {},
   "outputs": [
    {
     "data": {
      "text/plain": [
       "ShapiroResult(statistic=0.9613319039344788, pvalue=1.2883664412895895e-15)"
      ]
     },
     "execution_count": 84,
     "metadata": {},
     "output_type": "execute_result"
    }
   ],
   "source": [
    "stats.shapiro(sample_test_client_B)"
   ]
  },
  {
   "cell_type": "markdown",
   "id": "3ce6ca13",
   "metadata": {},
   "source": [
    "##### В обоих группах p-value < 0.05, что говорит нам о НЕ нормальности распределений\n",
    "\n",
    "###### Сравним наши выборки с помощью непараметрического аналога - U-критерия Манна-Уитни. Он переводит все данные в ранговую шкалу, после этого считает какой средний ранг оказался в первой группе и во второй. Этот критерий менее чувствителен к выбросам"
   ]
  },
  {
   "cell_type": "code",
   "execution_count": 85,
   "id": "03719d26",
   "metadata": {},
   "outputs": [
    {
     "data": {
      "text/plain": [
       "MannwhitneyuResult(statistic=153425.0, pvalue=0.0)"
      ]
     },
     "execution_count": 85,
     "metadata": {},
     "output_type": "execute_result"
    }
   ],
   "source": [
    "mannwhitneyu(paying_df[paying_df.testgroup=='a'].revenue,\n",
    "         paying_df[paying_df.testgroup=='b'].revenue)"
   ]
  },
  {
   "cell_type": "markdown",
   "id": "72dc851f",
   "metadata": {},
   "source": [
    "pvalue=0.0  - это значит, что средний доход платящего пользователя в тестовой и котнрольной группах статистически значимо различаются между собой и у нас есть основания отклонить Н0 и принять гипотезу Н1."
   ]
  },
  {
   "cell_type": "markdown",
   "id": "ae5c5fec",
   "metadata": {},
   "source": [
    "Проверим есть ли статистически значимые различия между группами с помощью bootstrap"
   ]
  },
  {
   "cell_type": "code",
   "execution_count": 48,
   "id": "d72c9bdb",
   "metadata": {},
   "outputs": [],
   "source": [
    "def get_bootstrap_median(\n",
    "    data_column_1, # числовые значения для первой выборки\n",
    "    data_column_2, # числовые значения для второй выборки\n",
    "    boot_it = 2000, # количество бутстрап_подвыборок\n",
    "    statistic = np.median, # интересующая нас статистика\n",
    "    bootstrap_conf_level = 0.99 # уровень значимости\n",
    "):\n",
    "    boot_len = max([len(data_column_1), len(data_column_2)])\n",
    "    boot_data = []\n",
    "    for i in tqdm(range(boot_it)): # извлекаем подвыборки\n",
    "        samples_1 = data_column_1.sample(boot_len, replace = True).values # True - параметр возвращения\n",
    "        \n",
    "        samples_2 = data_column_2.sample(boot_len, replace = True).values # True - параметр возвращения\n",
    "        \n",
    "        boot_data.append(statistic(samples_1 - samples_2)) # median()- применяем статистику\n",
    "        \n",
    "    pd_boot_data = pd.DataFrame(boot_data)\n",
    "    \n",
    "    left_quant = (1 - bootstrap_conf_level)/2\n",
    "    right_quant = 1 - (1 - bootstrap_conf_level)/2\n",
    "    ci = pd_boot_data.quantile([left_quant,right_quant])\n",
    "    \n",
    "    p_1 = norm.cdf(\n",
    "        x = 0,\n",
    "        loc = np.median(boot_data),\n",
    "        scale = np.std(boot_data) )\n",
    "    \n",
    "    p_2 = norm.cdf(\n",
    "        x = 0,\n",
    "        loc = -np.median(boot_data),\n",
    "        scale = np.std(boot_data) )\n",
    "    p_value = min(p_1, p_2) * 2\n",
    "    \n",
    "    # Визуализация\n",
    "    plt.hist(pd_boot_data[0], bins = 50)\n",
    "    \n",
    "    plt.style.use('ggplot')\n",
    "    plt.vlines(ci, ymin = 0, ymax = 50, linestyle = '--')\n",
    "    plt.xlabel('boot_data')\n",
    "    plt.ylabel('frequency')\n",
    "    plt.title('Histogram of boot_data')\n",
    "    plt.show()\n",
    "    \n",
    "    return {'boot_data' : boot_data,\n",
    "            'ci' : ci,\n",
    "            'p_value' : p_value}"
   ]
  },
  {
   "cell_type": "code",
   "execution_count": 49,
   "id": "04f1f591",
   "metadata": {},
   "outputs": [
    {
     "data": {
      "application/vnd.jupyter.widget-view+json": {
       "model_id": "7886e642bd4249f08db2c1786ddcae01",
       "version_major": 2,
       "version_minor": 0
      },
      "text/plain": [
       "  0%|          | 0/2000 [00:00<?, ?it/s]"
      ]
     },
     "metadata": {},
     "output_type": "display_data"
    },
    {
     "data": {
      "image/png": "[encoded data removed]",
      "text/plain": [
       "<Figure size 432x288 with 1 Axes>"
      ]
     },
     "metadata": {},
     "output_type": "display_data"
    }
   ],
   "source": [
    "booted_data_2 = get_bootstrap_median(paying_df.query('testgroup==\"a\"').revenue, paying_df.query('testgroup==\"b\"').revenue)"
   ]
  },
  {
   "cell_type": "code",
   "execution_count": 50,
   "id": "7b05ff31",
   "metadata": {},
   "outputs": [
    {
     "data": {
      "text/plain": [
       "0.0"
      ]
     },
     "execution_count": 50,
     "metadata": {},
     "output_type": "execute_result"
    }
   ],
   "source": [
    "booted_data_2['p_value']"
   ]
  },
  {
   "cell_type": "code",
   "execution_count": 51,
   "id": "bfec10ac",
   "metadata": {},
   "outputs": [
    {
     "data": {
      "text/html": [
       "<div>\n",
       "<style scoped>\n",
       "    .dataframe tbody tr th:only-of-type {\n",
       "        vertical-align: middle;\n",
       "    }\n",
       "\n",
       "    .dataframe tbody tr th {\n",
       "        vertical-align: top;\n",
       "    }\n",
       "\n",
       "    .dataframe thead th {\n",
       "        text-align: right;\n",
       "    }\n",
       "</style>\n",
       "<table border=\"1\" class=\"dataframe\">\n",
       "  <thead>\n",
       "    <tr style=\"text-align: right;\">\n",
       "      <th></th>\n",
       "      <th>0</th>\n",
       "    </tr>\n",
       "  </thead>\n",
       "  <tbody>\n",
       "    <tr>\n",
       "      <th>0.005</th>\n",
       "      <td>-2730.0025</td>\n",
       "    </tr>\n",
       "    <tr>\n",
       "      <th>0.995</th>\n",
       "      <td>-2606.0000</td>\n",
       "    </tr>\n",
       "  </tbody>\n",
       "</table>\n",
       "</div>"
      ],
      "text/plain": [
       "               0\n",
       "0.005 -2730.0025\n",
       "0.995 -2606.0000"
      ]
     },
     "execution_count": 51,
     "metadata": {},
     "output_type": "execute_result"
    }
   ],
   "source": [
    "booted_data_2['ci']"
   ]
  },
  {
   "cell_type": "markdown",
   "id": "8d9f0c90",
   "metadata": {},
   "source": [
    "##### По проведенным тестам можно сделать вывод, что общий доход и средний доход с привлеченного пользователя в группах статистически значимо НЕ отличается. Однако, проверив средний доход на платящего пользователя в группах, обнаружили  статистически значимые различия, что  позволяет отклонить Н0  и принять Н1 в том, что средний доход на платящего пользоваталя статистически значимо отличается в группах и в тестовой группе он ВЫШЕ, чем в контрольной группе. Так же в тестовой группе выросла конверсия в покупку и количество платящих пользователей в тестовой группе оказалось статистически значимо больше, при том что общее количество пользователей в группах и количество неплатящих пользователей в группах статистически значимо не отличается.\n",
    "\n",
    "#### Основываясь на вышесказанном, считаю, что набор предложений тестовой группы лучше и нужно его оставить."
   ]
  },
  {
   "cell_type": "code",
   "execution_count": null,
   "id": "595f63cf",
   "metadata": {},
   "outputs": [],
   "source": []
  },
  {
   "cell_type": "code",
   "execution_count": null,
   "id": "0af33fa1",
   "metadata": {},
   "outputs": [],
   "source": []
  },
  {
   "cell_type": "markdown",
   "id": "179f5f52",
   "metadata": {},
   "source": [
    "# Задание 3\n",
    "#### В игре Plants & Gardens каждый месяц проводятся тематические события, ограниченные по времени. В них игроки могут получить уникальные предметы для сада и персонажей, дополнительные монеты или бонусы. Для получения награды требуется пройти ряд уровней за определенное время. С помощью каких метрик можно оценить результаты последнего прошедшего события?\n",
    "\n",
    "#### Предположим, в другом событии мы усложнили механику событий так, что при каждой неудачной попытке выполнения уровня игрок будет откатываться на несколько уровней назад. Изменится ли набор метрик оценки результата? Если да, то как?"
   ]
  },
  {
   "cell_type": "markdown",
   "id": "7d058ac1",
   "metadata": {},
   "source": [
    "# Ответ:\n",
    "#### Предлагаю использовать такие метрики как:\n",
    "##### DAU - дневная аудитория ( количество уникальных пользователей, зашедких в игру в течение дня)\n",
    "##### MAU - месячная аудитория. И вытекающаю из них метрику stickness ratio - коэффициент того, насколько часто пользователи, в течение одного периода, \"остаются\" в продукте. Так же важно посмотреть ASL (среднююпродолжительность сессии), чтобы понять как много времени пользователь проводит  в игре.\n",
    "#### При усложнении механики предлогаю добавить метрику Сonversion rate (коэффициент конверсии). В нашем случае целевым действием будет прохождение уровня. Так же можно посмотреть Churn Rate (коэффициент оттока клиентов), т.е посмотреть какое количество клиентов из предыдущего периода ушло из продукта на момент нового периода."
   ]
  },
  {
   "cell_type": "code",
   "execution_count": null,
   "id": "52f9683b",
   "metadata": {},
   "outputs": [],
   "source": []
  },
  {
   "cell_type": "code",
   "execution_count": null,
   "id": "975350e1",
   "metadata": {},
   "outputs": [],
   "source": []
  },
  {
   "cell_type": "code",
   "execution_count": null,
   "id": "8b7e7fe7",
   "metadata": {},
   "outputs": [],
   "source": []
  },
  {
   "cell_type": "code",
   "execution_count": null,
   "id": "284e5e87",
   "metadata": {},
   "outputs": [],
   "source": []
  },
  {
   "cell_type": "code",
   "execution_count": null,
   "id": "d9712855",
   "metadata": {},
   "outputs": [],
   "source": []
  },
  {
   "cell_type": "code",
   "execution_count": null,
   "id": "13ccc9b2",
   "metadata": {},
   "outputs": [],
   "source": []
  },
  {
   "cell_type": "code",
   "execution_count": null,
   "id": "ef56068a",
   "metadata": {
    "scrolled": true
   },
   "outputs": [],
   "source": []
  },
  {
   "cell_type": "code",
   "execution_count": null,
   "id": "7e38eb18",
   "metadata": {},
   "outputs": [],
   "source": []
  },
  {
   "cell_type": "code",
   "execution_count": null,
   "id": "6be86155",
   "metadata": {},
   "outputs": [],
   "source": []
  },
  {
   "cell_type": "code",
   "execution_count": null,
   "id": "e489845e",
   "metadata": {},
   "outputs": [],
   "source": []
  },
  {
   "cell_type": "code",
   "execution_count": null,
   "id": "d9bf5ea8",
   "metadata": {
    "scrolled": true
   },
   "outputs": [],
   "source": []
  },
  {
   "cell_type": "code",
   "execution_count": null,
   "id": "1d609377",
   "metadata": {},
   "outputs": [],
   "source": []
  },
  {
   "cell_type": "code",
   "execution_count": null,
   "id": "6018c2e0",
   "metadata": {},
   "outputs": [],
   "source": []
  },
  {
   "cell_type": "code",
   "execution_count": null,
   "id": "2d96ffc2",
   "metadata": {},
   "outputs": [],
   "source": []
  },
  {
   "cell_type": "code",
   "execution_count": null,
   "id": "704b38c7",
   "metadata": {},
   "outputs": [],
   "source": []
  },
  {
   "cell_type": "code",
   "execution_count": null,
   "id": "aeaa456a",
   "metadata": {},
   "outputs": [],
   "source": []
  },
  {
   "cell_type": "code",
   "execution_count": null,
   "id": "05b654ec",
   "metadata": {},
   "outputs": [],
   "source": []
  },
  {
   "cell_type": "code",
   "execution_count": null,
   "id": "dc66a3e9",
   "metadata": {},
   "outputs": [],
   "source": []
  },
  {
   "cell_type": "code",
   "execution_count": null,
   "id": "2f3d6b93",
   "metadata": {},
   "outputs": [],
   "source": []
  },
  {
   "cell_type": "code",
   "execution_count": null,
   "id": "f29ea748",
   "metadata": {},
   "outputs": [],
   "source": []
  },
  {
   "cell_type": "code",
   "execution_count": null,
   "id": "b2eea5ac",
   "metadata": {},
   "outputs": [],
   "source": []
  }
 ],
 "metadata": {
  "kernelspec": {
   "display_name": "Python 3 (ipykernel)",
   "language": "python",
   "name": "python3"
  },
  "language_info": {
   "codemirror_mode": {
    "name": "ipython",
    "version": 3
   },
   "file_extension": ".py",
   "mimetype": "text/x-python",
   "name": "python",
   "nbconvert_exporter": "python",
   "pygments_lexer": "ipython3",
   "version": "3.9.7"
  }
 },
 "nbformat": 4,
 "nbformat_minor": 5
}
